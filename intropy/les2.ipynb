{
 "cells": [
  {
   "cell_type": "markdown",
   "id": "e52536d3",
   "metadata": {},
   "source": [
    "Chapter 3"
   ]
  }
 ],
 "metadata": {
  "language_info": {
   "name": "python"
  }
 },
 "nbformat": 4,
 "nbformat_minor": 5
}
